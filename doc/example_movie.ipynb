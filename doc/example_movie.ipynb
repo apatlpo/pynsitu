{
 "cells": [
  {
   "cell_type": "markdown",
   "metadata": {},
   "source": [
    "# Make movie of an experimental campaign"
   ]
  },
  {
   "cell_type": "code",
   "execution_count": 3,
   "metadata": {
    "tags": []
   },
   "outputs": [],
   "source": [
    "%matplotlib inline\n",
    "import matplotlib.pyplot as plt\n",
    "\n",
    "import numpy as np\n",
    "import pandas as pd\n",
    "import xarray as xr\n",
    "\n",
    "import pynsitu as pin\n",
    "\n",
    "crs = pin.maps.crs\n",
    "\n",
    "import pynsitu.movies as movies"
   ]
  },
  {
   "cell_type": "markdown",
   "metadata": {},
   "source": [
    "---\n",
    "## generate sample data"
   ]
  },
  {
   "cell_type": "code",
   "execution_count": 14,
   "metadata": {
    "tags": []
   },
   "outputs": [],
   "source": [
    "start = \"2018-01-01\"\n",
    "end = \"2018-01-15\"\n",
    "\n",
    "lonc, latc = 30, 0\n",
    "scale = 111e3\n",
    "\n",
    "# drifters\n",
    "def generate_drifter_data(drifter_id):\n",
    "    \"\"\"Create a drifter time series.\"\"\"\n",
    "    time = pd.date_range(start=\"2018-01-02\", end=\"2018-01-15\", freq=\"1H\")\n",
    "    v = 0.1  # m/s approx\n",
    "    ux = v * np.random.randn(time.size)\n",
    "    uy = v * np.random.randn(time.size)\n",
    "    df = pd.DataFrame(dict(u=ux, v=uy, time=time))\n",
    "    dt = (time[1] - time[0]) / pd.Timedelta(\"1s\")\n",
    "    df[\"lon\"] = df[\"u\"].cumsum() * dt / scale / np.cos(lonc * np.pi / 180)\n",
    "    df[\"lat\"] = df[\"v\"].cumsum() * dt / scale\n",
    "    # lon = v * np.cos(2 * np.pi * ((time - time[0]) / time_scale)) / scale\n",
    "    # lat = v * np.sin(2 * np.pi * ((time - time[0]) / time_scale)) / scale\n",
    "    # df = pd.DataFrame(dict(lon=lonc + lon, lat=latc + lat, time=time))\n",
    "    df[\"id\"] = drifter_id\n",
    "    df = df.set_index(\"time\")\n",
    "    return df\n",
    "\n",
    "\n",
    "dr = pd.concat([generate_drifter_data(i) for i in range(0, 5)])\n",
    "\n",
    "# ships\n",
    "def generate_ship_data():\n",
    "    \"\"\"Create a ship time series.\"\"\"\n",
    "    time = pd.date_range(start=\"2018-01-05\", end=\"2018-01-10\", freq=\"30T\")\n",
    "    v = 10  # m/s approx\n",
    "    time_scale = pd.Timedelta(\"1D\")\n",
    "    lon = v * np.cos(2 * np.pi * ((time - time[0]) / time_scale)) / scale\n",
    "    lat = v * np.sin(2 * np.pi * ((time - time[0]) / time_scale)) / scale\n",
    "    df = pd.DataFrame(dict(lon=lonc + lon, lat=latc + lat, time=time))\n",
    "    df[\"id\"] = \"myid\"\n",
    "    df = df.set_index(\"time\")\n",
    "    return df\n",
    "\n",
    "\n",
    "ship = generate_ship_data()\n",
    "\n",
    "# wind"
   ]
  },
  {
   "cell_type": "markdown",
   "metadata": {},
   "source": [
    "---\n",
    "\n",
    "## prepare for movie generation\n"
   ]
  },
  {
   "cell_type": "markdown",
   "metadata": {},
   "source": [
    "### massage data"
   ]
  },
  {
   "cell_type": "code",
   "execution_count": 16,
   "metadata": {
    "tags": []
   },
   "outputs": [],
   "source": [
    "# map_gen = lambda : cp.map(extent=bounds, rivers=False, tile=(\"toner-lite\", 12), land=False, bathy=False, coastline=False)\n",
    "\n",
    "# or dynamic adjustment of extent\n",
    "dl = 1\n",
    "extent = (lonc - dl, lonc + dl, latc - dl, latc + df)  # fixed extent\n",
    "# extent = None # dynamic adjustment of extent\n",
    "map_gen = lambda extent: cp.map(\n",
    "    extent=None,\n",
    "    rivers=False,\n",
    "    tile=(\"toner-lite\", 12),\n",
    "    land=False,\n",
    "    bathy=False,\n",
    "    coastline=False,\n",
    "    figsize=(8, 8),\n",
    ")\n",
    "if extent is None:\n",
    "    # dynamic adjustment of extent\n",
    "    extent = dict(buffer=0.1, aspect_ratio=(2, 1), exclude=[\"wind\"])\n",
    "\n",
    "\n",
    "dr_keys = list(dr[\"id\"].unique())\n",
    "colorsd = {d: c for d, c in zip(dr_keys, pin.get_cmap_colors(len(dr_keys)))}\n",
    "mv_dr = dict(\n",
    "    dtype=\"drifter\", data=dr, colors=colorsd, dt_trail=\"1H\", head_style=dict(alpha=0.5)\n",
    ")\n",
    "\n",
    "mv_ship = dict(\n",
    "    dtype=\"moving\",\n",
    "    data=ship,\n",
    "    color=\"k\",\n",
    "    dt_trail=\"1H\",\n",
    ")\n",
    "\n",
    "mv_wd = dict(\n",
    "    dtype=\"vector_field\",\n",
    "    # data=wind,\n",
    "    u=\"u10m\",\n",
    "    v=\"v10m\",\n",
    "    uref=10,\n",
    "    di=3,\n",
    "    scale=1e2,\n",
    "    color=\"0.7\",\n",
    ")"
   ]
  },
  {
   "cell_type": "markdown",
   "metadata": {},
   "source": [
    "### instantiate movie object"
   ]
  },
  {
   "cell_type": "code",
   "execution_count": 18,
   "metadata": {
    "tags": []
   },
   "outputs": [],
   "source": [
    "mv = movies.movie(\n",
    "    start,\n",
    "    end,\n",
    "    \"10T\",\n",
    "    map_gen,\n",
    "    \"figs\",\n",
    "    # extent=extent, #dynamic extent\n",
    "    drifters=mv_dr,\n",
    "    ship=mv_ship,\n",
    "    # wind=mv_wd,\n",
    "    # legend=True,\n",
    "    legend=\"upper right\",\n",
    ")"
   ]
  },
  {
   "cell_type": "code",
   "execution_count": 19,
   "metadata": {
    "tags": []
   },
   "outputs": [
    {
     "ename": "TypeError",
     "evalue": "<lambda>() missing 1 required positional argument: 'extent'",
     "output_type": "error",
     "traceback": [
      "\u001b[0;31m---------------------------------------------------------------------------\u001b[0m",
      "\u001b[0;31mTypeError\u001b[0m                                 Traceback (most recent call last)",
      "Cell \u001b[0;32mIn[19], line 1\u001b[0m\n\u001b[0;32m----> 1\u001b[0m \u001b[43mmv\u001b[49m\u001b[38;5;241;43m.\u001b[39;49m\u001b[43mplot_snapshot\u001b[49m\u001b[43m(\u001b[49m\u001b[38;5;241;43m25\u001b[39;49m\u001b[43m)\u001b[49m;\n",
      "File \u001b[0;32m~/Code/pynsitu/pynsitu/movies.py:175\u001b[0m, in \u001b[0;36mplot_snapshot\u001b[0;34m(self, t, extent, legend, dry_run)\u001b[0m\n\u001b[1;32m    173\u001b[0m         return extent\n\u001b[1;32m    174\u001b[0m     fig, ax, cbar = self.mgen(extent)\n\u001b[0;32m--> 175\u001b[0m else:\n\u001b[1;32m    176\u001b[0m     fig, ax, cbar = self.mgen()\n\u001b[1;32m    178\u001b[0m hdl, h = [], None\n",
      "\u001b[0;31mTypeError\u001b[0m: <lambda>() missing 1 required positional argument: 'extent'"
     ]
    }
   ],
   "source": [
    "mv.plot_snapshot(25);"
   ]
  },
  {
   "cell_type": "markdown",
   "metadata": {},
   "source": [
    "### generate movie figures"
   ]
  },
  {
   "cell_type": "code",
   "execution_count": null,
   "metadata": {},
   "outputs": [],
   "source": [
    "mv.make_figures(extents=new_extents)"
   ]
  },
  {
   "cell_type": "markdown",
   "metadata": {},
   "source": [
    "### generate movie figures with geographical extent smoothing"
   ]
  },
  {
   "cell_type": "code",
   "execution_count": 32,
   "metadata": {
    "tags": []
   },
   "outputs": [
    {
     "name": "stderr",
     "output_type": "stream",
     "text": [
      "100%|██████████████████████████████████████████████████████████████████████████████████████████████████████████████████████| 405/405 [00:18<00:00, 22.04it/s]\n"
     ]
    }
   ],
   "source": [
    "extents = mv.dry_run()\n",
    "\n",
    "# padd and smooth extents\n",
    "new_extents = pad_smooth_extents(extents, 10)\n",
    "# dev\n",
    "# e = pd.DataFrame(padded_extents)\n",
    "# ne = pd.DataFrame(new_extents)\n",
    "# e[1].hvplot() * ne[1].hvplot()"
   ]
  },
  {
   "cell_type": "code",
   "execution_count": 33,
   "metadata": {
    "tags": []
   },
   "outputs": [
    {
     "name": "stderr",
     "output_type": "stream",
     "text": [
      "100%|██████████████████████████████████████████████████████████████████████████████████████████████████████████████████████| 405/405 [10:12<00:00,  1.51s/it]\n"
     ]
    }
   ],
   "source": [
    "mv.make_figures(extents=new_extents)"
   ]
  },
  {
   "cell_type": "markdown",
   "metadata": {},
   "source": [
    "### transform figures into mp4\n",
    "\n",
    "Requires ffmpeg to be installed, for example: `conda install ffmpeg`"
   ]
  },
  {
   "cell_type": "code",
   "execution_count": 34,
   "metadata": {
    "tags": []
   },
   "outputs": [
    {
     "name": "stdout",
     "output_type": "stream",
     "text": [
      "movies should be ready at: /Users/aponte/Code/taos/insitu/taos2/taos2_drifters1.mp4\n"
     ]
    }
   ],
   "source": [
    "movie.generate_mpg(mv.fig_dir, \"movie\")"
   ]
  },
  {
   "cell_type": "code",
   "execution_count": null,
   "metadata": {
    "tags": []
   },
   "outputs": [],
   "source": []
  }
 ],
 "metadata": {
  "kernelspec": {
   "display_name": "Python 3 (ipykernel)",
   "language": "python",
   "name": "python3"
  },
  "language_info": {
   "codemirror_mode": {
    "name": "ipython",
    "version": 3
   },
   "file_extension": ".py",
   "mimetype": "text/x-python",
   "name": "python",
   "nbconvert_exporter": "python",
   "pygments_lexer": "ipython3",
   "version": "3.10.11"
  }
 },
 "nbformat": 4,
 "nbformat_minor": 4
}
